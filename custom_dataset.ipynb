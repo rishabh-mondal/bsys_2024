{
 "cells": [
  {
   "cell_type": "code",
   "execution_count": 5,
   "metadata": {},
   "outputs": [],
   "source": [
    "import os\n",
    "import json"
   ]
  },
  {
   "cell_type": "code",
   "execution_count": 6,
   "metadata": {},
   "outputs": [],
   "source": [
    "images_path = '/home/rishabh.mondal/Brick-Kilns-project/albk_rishabh/albk_v2/YOLO_LOCALIZATION/processed_data/wb_grid_400_aa_v1/images'\n",
    "labels_path = '/home/rishabh.mondal/Brick-Kilns-project/albk_rishabh/albk_v2/YOLO_LOCALIZATION/processed_data/wb_grid_400_aa_v1/labels'\n",
    "path_to_store = \"/home/rishabh.mondal/Brick-Kilns-project/albk_rishabh/albk_v2/YOLO_LOCALIZATION/processed_data/wb_grid_400_aa_v1/annotations.jsonl\"\n"
   ]
  },
  {
   "cell_type": "code",
   "execution_count": 7,
   "metadata": {},
   "outputs": [],
   "source": [
    "# create jsonl\n",
    "def create_jsonl(path_to_store,images_path,labels_path,scale=1000):\n",
    "    images = os.listdir(images_path)\n",
    "    labels = os.listdir(labels_path)\n",
    "    images.sort()\n",
    "    labels.sort()\n",
    "    with open(f'{path_to_store}', 'w') as f:\n",
    "        for i in range(len(images)):\n",
    "            image = images[i]\n",
    "            label = labels[i]\n",
    "            assert image.split('.png')[0] == label.split('.txt')[0]\n",
    "            image_path = os.path.join(images_path, image)\n",
    "            label_path = os.path.join(labels_path, label)\n",
    "            labels_and_boxes = \"\"\n",
    "            with open(label_path, 'r') as l:\n",
    "                lines = l.readlines()\n",
    "                for line in lines:\n",
    "                    line = line.strip().split(' ')\n",
    "                    label = line[0]\n",
    "                    label_name = \"\"\n",
    "                    if float(label)==0:\n",
    "                        label_name = 'FCBK'\n",
    "                    elif float(label)==1:\n",
    "                        label_name = 'Zigzag'\n",
    "                    x_c, y_c, w, h = line[1:]\n",
    "                    x_c,y_c,w,h = float(x_c),float(y_c),float(w),float(h)\n",
    "                    x1 = x_c - w/2\n",
    "                    y1 = y_c - h/2\n",
    "                    x2 = x_c + w/2\n",
    "                    y2 = y_c + h/2\n",
    "                    x1,y1,x2,y2 = int(x1*scale),int(y1*scale),int(x2*scale),int(y2*scale)\n",
    "                    labels_and_boxes += f\"{label_name}<loc_{x1}><loc_{y1}><loc_{x2}><loc_{y2}>\"\n",
    "\n",
    "            data = {\n",
    "                'image': image_path,\n",
    "                'prefix': \"<OD>\",\n",
    "                'suffix': labels_and_boxes\n",
    "            }\n",
    "            json.dump(data, f)\n",
    "            f.write('\\n')\n"
   ]
  },
  {
   "cell_type": "code",
   "execution_count": 8,
   "metadata": {},
   "outputs": [],
   "source": [
    "create_jsonl(path_to_store,images_path,labels_path)"
   ]
  },
  {
   "cell_type": "code",
   "execution_count": null,
   "metadata": {},
   "outputs": [],
   "source": []
  }
 ],
 "metadata": {
  "kernelspec": {
   "display_name": "zeel_py310",
   "language": "python",
   "name": "python3"
  },
  "language_info": {
   "codemirror_mode": {
    "name": "ipython",
    "version": 3
   },
   "file_extension": ".py",
   "mimetype": "text/x-python",
   "name": "python",
   "nbconvert_exporter": "python",
   "pygments_lexer": "ipython3",
   "version": "3.10.12"
  }
 },
 "nbformat": 4,
 "nbformat_minor": 2
}
